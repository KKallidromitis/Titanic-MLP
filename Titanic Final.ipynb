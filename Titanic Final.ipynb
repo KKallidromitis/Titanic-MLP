{
 "cells": [
  {
   "cell_type": "markdown",
   "metadata": {},
   "source": [
    "# Titanic Dataset with Multilayer Perceptron in Tensorflow"
   ]
  },
  {
   "cell_type": "markdown",
   "metadata": {},
   "source": [
    "## Improvements\n",
    "1. Try with Name included, considering most occuring titles to derive weight for survival\n",
    "2. Try with Cabin included, compare survival rate of having a cabin (1) vs not having a cabin (0)"
   ]
  },
  {
   "cell_type": "code",
   "execution_count": 1,
   "metadata": {},
   "outputs": [],
   "source": [
    "import warnings\n",
    "warnings.filterwarnings(\"ignore\")"
   ]
  },
  {
   "cell_type": "code",
   "execution_count": 2,
   "metadata": {},
   "outputs": [],
   "source": [
    "#import csv\n",
    "import numpy as np\n",
    "import matplotlib.pyplot as plt\n",
    "import pandas as pd\n",
    "import seaborn as sns\n",
    "from collections import Counter\n",
    "from sklearn import preprocessing\n",
    "import tensorflow as tf\n",
    "from sklearn.preprocessing import Binarizer"
   ]
  },
  {
   "cell_type": "code",
   "execution_count": 3,
   "metadata": {},
   "outputs": [],
   "source": [
    "#import data\n",
    "train = pd.read_csv(\"train.csv\", encoding = 'utf8')\n",
    "test = pd.read_csv(\"test.csv\", encoding = 'utf8')\n",
    "l=len(train)\n",
    "lt=len(test)"
   ]
  },
  {
   "cell_type": "markdown",
   "metadata": {},
   "source": [
    "## Trainning Data"
   ]
  },
  {
   "cell_type": "code",
   "execution_count": 4,
   "metadata": {
    "scrolled": false
   },
   "outputs": [
    {
     "data": {
      "text/html": [
       "<div>\n",
       "<style scoped>\n",
       "    .dataframe tbody tr th:only-of-type {\n",
       "        vertical-align: middle;\n",
       "    }\n",
       "\n",
       "    .dataframe tbody tr th {\n",
       "        vertical-align: top;\n",
       "    }\n",
       "\n",
       "    .dataframe thead th {\n",
       "        text-align: right;\n",
       "    }\n",
       "</style>\n",
       "<table border=\"1\" class=\"dataframe\">\n",
       "  <thead>\n",
       "    <tr style=\"text-align: right;\">\n",
       "      <th></th>\n",
       "      <th>PassengerId</th>\n",
       "      <th>Survived</th>\n",
       "      <th>Pclass</th>\n",
       "      <th>Name</th>\n",
       "      <th>Sex</th>\n",
       "      <th>Age</th>\n",
       "      <th>SibSp</th>\n",
       "      <th>Parch</th>\n",
       "      <th>Ticket</th>\n",
       "      <th>Fare</th>\n",
       "      <th>Cabin</th>\n",
       "      <th>Embarked</th>\n",
       "    </tr>\n",
       "  </thead>\n",
       "  <tbody>\n",
       "    <tr>\n",
       "      <th>0</th>\n",
       "      <td>1</td>\n",
       "      <td>0</td>\n",
       "      <td>3</td>\n",
       "      <td>Braund, Mr. Owen Harris</td>\n",
       "      <td>male</td>\n",
       "      <td>22.0</td>\n",
       "      <td>1</td>\n",
       "      <td>0</td>\n",
       "      <td>A/5 21171</td>\n",
       "      <td>7.2500</td>\n",
       "      <td>NaN</td>\n",
       "      <td>S</td>\n",
       "    </tr>\n",
       "    <tr>\n",
       "      <th>1</th>\n",
       "      <td>2</td>\n",
       "      <td>1</td>\n",
       "      <td>1</td>\n",
       "      <td>Cumings, Mrs. John Bradley (Florence Briggs Th...</td>\n",
       "      <td>female</td>\n",
       "      <td>38.0</td>\n",
       "      <td>1</td>\n",
       "      <td>0</td>\n",
       "      <td>PC 17599</td>\n",
       "      <td>71.2833</td>\n",
       "      <td>C85</td>\n",
       "      <td>C</td>\n",
       "    </tr>\n",
       "    <tr>\n",
       "      <th>2</th>\n",
       "      <td>3</td>\n",
       "      <td>1</td>\n",
       "      <td>3</td>\n",
       "      <td>Heikkinen, Miss. Laina</td>\n",
       "      <td>female</td>\n",
       "      <td>26.0</td>\n",
       "      <td>0</td>\n",
       "      <td>0</td>\n",
       "      <td>STON/O2. 3101282</td>\n",
       "      <td>7.9250</td>\n",
       "      <td>NaN</td>\n",
       "      <td>S</td>\n",
       "    </tr>\n",
       "    <tr>\n",
       "      <th>3</th>\n",
       "      <td>4</td>\n",
       "      <td>1</td>\n",
       "      <td>1</td>\n",
       "      <td>Futrelle, Mrs. Jacques Heath (Lily May Peel)</td>\n",
       "      <td>female</td>\n",
       "      <td>35.0</td>\n",
       "      <td>1</td>\n",
       "      <td>0</td>\n",
       "      <td>113803</td>\n",
       "      <td>53.1000</td>\n",
       "      <td>C123</td>\n",
       "      <td>S</td>\n",
       "    </tr>\n",
       "    <tr>\n",
       "      <th>4</th>\n",
       "      <td>5</td>\n",
       "      <td>0</td>\n",
       "      <td>3</td>\n",
       "      <td>Allen, Mr. William Henry</td>\n",
       "      <td>male</td>\n",
       "      <td>35.0</td>\n",
       "      <td>0</td>\n",
       "      <td>0</td>\n",
       "      <td>373450</td>\n",
       "      <td>8.0500</td>\n",
       "      <td>NaN</td>\n",
       "      <td>S</td>\n",
       "    </tr>\n",
       "  </tbody>\n",
       "</table>\n",
       "</div>"
      ],
      "text/plain": [
       "   PassengerId  Survived  Pclass  \\\n",
       "0            1         0       3   \n",
       "1            2         1       1   \n",
       "2            3         1       3   \n",
       "3            4         1       1   \n",
       "4            5         0       3   \n",
       "\n",
       "                                                Name     Sex   Age  SibSp  \\\n",
       "0                            Braund, Mr. Owen Harris    male  22.0      1   \n",
       "1  Cumings, Mrs. John Bradley (Florence Briggs Th...  female  38.0      1   \n",
       "2                             Heikkinen, Miss. Laina  female  26.0      0   \n",
       "3       Futrelle, Mrs. Jacques Heath (Lily May Peel)  female  35.0      1   \n",
       "4                           Allen, Mr. William Henry    male  35.0      0   \n",
       "\n",
       "   Parch            Ticket     Fare Cabin Embarked  \n",
       "0      0         A/5 21171   7.2500   NaN        S  \n",
       "1      0          PC 17599  71.2833   C85        C  \n",
       "2      0  STON/O2. 3101282   7.9250   NaN        S  \n",
       "3      0            113803  53.1000  C123        S  \n",
       "4      0            373450   8.0500   NaN        S  "
      ]
     },
     "metadata": {},
     "output_type": "display_data"
    }
   ],
   "source": [
    "display(train.head())\n",
    "train.describe()\n",
    "test_passenger_id=test[\"PassengerId\"]"
   ]
  },
  {
   "cell_type": "markdown",
   "metadata": {},
   "source": [
    "## Test Data"
   ]
  },
  {
   "cell_type": "code",
   "execution_count": 5,
   "metadata": {},
   "outputs": [
    {
     "data": {
      "text/html": [
       "<div>\n",
       "<style scoped>\n",
       "    .dataframe tbody tr th:only-of-type {\n",
       "        vertical-align: middle;\n",
       "    }\n",
       "\n",
       "    .dataframe tbody tr th {\n",
       "        vertical-align: top;\n",
       "    }\n",
       "\n",
       "    .dataframe thead th {\n",
       "        text-align: right;\n",
       "    }\n",
       "</style>\n",
       "<table border=\"1\" class=\"dataframe\">\n",
       "  <thead>\n",
       "    <tr style=\"text-align: right;\">\n",
       "      <th></th>\n",
       "      <th>PassengerId</th>\n",
       "      <th>Pclass</th>\n",
       "      <th>Name</th>\n",
       "      <th>Sex</th>\n",
       "      <th>Age</th>\n",
       "      <th>SibSp</th>\n",
       "      <th>Parch</th>\n",
       "      <th>Ticket</th>\n",
       "      <th>Fare</th>\n",
       "      <th>Cabin</th>\n",
       "      <th>Embarked</th>\n",
       "    </tr>\n",
       "  </thead>\n",
       "  <tbody>\n",
       "    <tr>\n",
       "      <th>0</th>\n",
       "      <td>892</td>\n",
       "      <td>3</td>\n",
       "      <td>Kelly, Mr. James</td>\n",
       "      <td>male</td>\n",
       "      <td>34.5</td>\n",
       "      <td>0</td>\n",
       "      <td>0</td>\n",
       "      <td>330911</td>\n",
       "      <td>7.8292</td>\n",
       "      <td>NaN</td>\n",
       "      <td>Q</td>\n",
       "    </tr>\n",
       "    <tr>\n",
       "      <th>1</th>\n",
       "      <td>893</td>\n",
       "      <td>3</td>\n",
       "      <td>Wilkes, Mrs. James (Ellen Needs)</td>\n",
       "      <td>female</td>\n",
       "      <td>47.0</td>\n",
       "      <td>1</td>\n",
       "      <td>0</td>\n",
       "      <td>363272</td>\n",
       "      <td>7.0000</td>\n",
       "      <td>NaN</td>\n",
       "      <td>S</td>\n",
       "    </tr>\n",
       "    <tr>\n",
       "      <th>2</th>\n",
       "      <td>894</td>\n",
       "      <td>2</td>\n",
       "      <td>Myles, Mr. Thomas Francis</td>\n",
       "      <td>male</td>\n",
       "      <td>62.0</td>\n",
       "      <td>0</td>\n",
       "      <td>0</td>\n",
       "      <td>240276</td>\n",
       "      <td>9.6875</td>\n",
       "      <td>NaN</td>\n",
       "      <td>Q</td>\n",
       "    </tr>\n",
       "    <tr>\n",
       "      <th>3</th>\n",
       "      <td>895</td>\n",
       "      <td>3</td>\n",
       "      <td>Wirz, Mr. Albert</td>\n",
       "      <td>male</td>\n",
       "      <td>27.0</td>\n",
       "      <td>0</td>\n",
       "      <td>0</td>\n",
       "      <td>315154</td>\n",
       "      <td>8.6625</td>\n",
       "      <td>NaN</td>\n",
       "      <td>S</td>\n",
       "    </tr>\n",
       "    <tr>\n",
       "      <th>4</th>\n",
       "      <td>896</td>\n",
       "      <td>3</td>\n",
       "      <td>Hirvonen, Mrs. Alexander (Helga E Lindqvist)</td>\n",
       "      <td>female</td>\n",
       "      <td>22.0</td>\n",
       "      <td>1</td>\n",
       "      <td>1</td>\n",
       "      <td>3101298</td>\n",
       "      <td>12.2875</td>\n",
       "      <td>NaN</td>\n",
       "      <td>S</td>\n",
       "    </tr>\n",
       "  </tbody>\n",
       "</table>\n",
       "</div>"
      ],
      "text/plain": [
       "   PassengerId  Pclass                                          Name     Sex  \\\n",
       "0          892       3                              Kelly, Mr. James    male   \n",
       "1          893       3              Wilkes, Mrs. James (Ellen Needs)  female   \n",
       "2          894       2                     Myles, Mr. Thomas Francis    male   \n",
       "3          895       3                              Wirz, Mr. Albert    male   \n",
       "4          896       3  Hirvonen, Mrs. Alexander (Helga E Lindqvist)  female   \n",
       "\n",
       "    Age  SibSp  Parch   Ticket     Fare Cabin Embarked  \n",
       "0  34.5      0      0   330911   7.8292   NaN        Q  \n",
       "1  47.0      1      0   363272   7.0000   NaN        S  \n",
       "2  62.0      0      0   240276   9.6875   NaN        Q  \n",
       "3  27.0      0      0   315154   8.6625   NaN        S  \n",
       "4  22.0      1      1  3101298  12.2875   NaN        S  "
      ]
     },
     "metadata": {},
     "output_type": "display_data"
    },
    {
     "data": {
      "text/html": [
       "<div>\n",
       "<style scoped>\n",
       "    .dataframe tbody tr th:only-of-type {\n",
       "        vertical-align: middle;\n",
       "    }\n",
       "\n",
       "    .dataframe tbody tr th {\n",
       "        vertical-align: top;\n",
       "    }\n",
       "\n",
       "    .dataframe thead th {\n",
       "        text-align: right;\n",
       "    }\n",
       "</style>\n",
       "<table border=\"1\" class=\"dataframe\">\n",
       "  <thead>\n",
       "    <tr style=\"text-align: right;\">\n",
       "      <th></th>\n",
       "      <th>PassengerId</th>\n",
       "      <th>Pclass</th>\n",
       "      <th>Age</th>\n",
       "      <th>SibSp</th>\n",
       "      <th>Parch</th>\n",
       "      <th>Fare</th>\n",
       "    </tr>\n",
       "  </thead>\n",
       "  <tbody>\n",
       "    <tr>\n",
       "      <th>count</th>\n",
       "      <td>418.000000</td>\n",
       "      <td>418.000000</td>\n",
       "      <td>332.000000</td>\n",
       "      <td>418.000000</td>\n",
       "      <td>418.000000</td>\n",
       "      <td>417.000000</td>\n",
       "    </tr>\n",
       "    <tr>\n",
       "      <th>mean</th>\n",
       "      <td>1100.500000</td>\n",
       "      <td>2.265550</td>\n",
       "      <td>30.272590</td>\n",
       "      <td>0.447368</td>\n",
       "      <td>0.392344</td>\n",
       "      <td>35.627188</td>\n",
       "    </tr>\n",
       "    <tr>\n",
       "      <th>std</th>\n",
       "      <td>120.810458</td>\n",
       "      <td>0.841838</td>\n",
       "      <td>14.181209</td>\n",
       "      <td>0.896760</td>\n",
       "      <td>0.981429</td>\n",
       "      <td>55.907576</td>\n",
       "    </tr>\n",
       "    <tr>\n",
       "      <th>min</th>\n",
       "      <td>892.000000</td>\n",
       "      <td>1.000000</td>\n",
       "      <td>0.170000</td>\n",
       "      <td>0.000000</td>\n",
       "      <td>0.000000</td>\n",
       "      <td>0.000000</td>\n",
       "    </tr>\n",
       "    <tr>\n",
       "      <th>25%</th>\n",
       "      <td>996.250000</td>\n",
       "      <td>1.000000</td>\n",
       "      <td>21.000000</td>\n",
       "      <td>0.000000</td>\n",
       "      <td>0.000000</td>\n",
       "      <td>7.895800</td>\n",
       "    </tr>\n",
       "    <tr>\n",
       "      <th>50%</th>\n",
       "      <td>1100.500000</td>\n",
       "      <td>3.000000</td>\n",
       "      <td>27.000000</td>\n",
       "      <td>0.000000</td>\n",
       "      <td>0.000000</td>\n",
       "      <td>14.454200</td>\n",
       "    </tr>\n",
       "    <tr>\n",
       "      <th>75%</th>\n",
       "      <td>1204.750000</td>\n",
       "      <td>3.000000</td>\n",
       "      <td>39.000000</td>\n",
       "      <td>1.000000</td>\n",
       "      <td>0.000000</td>\n",
       "      <td>31.500000</td>\n",
       "    </tr>\n",
       "    <tr>\n",
       "      <th>max</th>\n",
       "      <td>1309.000000</td>\n",
       "      <td>3.000000</td>\n",
       "      <td>76.000000</td>\n",
       "      <td>8.000000</td>\n",
       "      <td>9.000000</td>\n",
       "      <td>512.329200</td>\n",
       "    </tr>\n",
       "  </tbody>\n",
       "</table>\n",
       "</div>"
      ],
      "text/plain": [
       "       PassengerId      Pclass         Age       SibSp       Parch        Fare\n",
       "count   418.000000  418.000000  332.000000  418.000000  418.000000  417.000000\n",
       "mean   1100.500000    2.265550   30.272590    0.447368    0.392344   35.627188\n",
       "std     120.810458    0.841838   14.181209    0.896760    0.981429   55.907576\n",
       "min     892.000000    1.000000    0.170000    0.000000    0.000000    0.000000\n",
       "25%     996.250000    1.000000   21.000000    0.000000    0.000000    7.895800\n",
       "50%    1100.500000    3.000000   27.000000    0.000000    0.000000   14.454200\n",
       "75%    1204.750000    3.000000   39.000000    1.000000    0.000000   31.500000\n",
       "max    1309.000000    3.000000   76.000000    8.000000    9.000000  512.329200"
      ]
     },
     "execution_count": 5,
     "metadata": {},
     "output_type": "execute_result"
    }
   ],
   "source": [
    "display(test.head())\n",
    "test.describe()"
   ]
  },
  {
   "cell_type": "markdown",
   "metadata": {},
   "source": [
    "## Data Pre-Processing"
   ]
  },
  {
   "cell_type": "code",
   "execution_count": 6,
   "metadata": {},
   "outputs": [
    {
     "data": {
      "text/plain": [
       "'Training Data:'"
      ]
     },
     "metadata": {},
     "output_type": "display_data"
    },
    {
     "data": {
      "text/html": [
       "<div>\n",
       "<style scoped>\n",
       "    .dataframe tbody tr th:only-of-type {\n",
       "        vertical-align: middle;\n",
       "    }\n",
       "\n",
       "    .dataframe tbody tr th {\n",
       "        vertical-align: top;\n",
       "    }\n",
       "\n",
       "    .dataframe thead th {\n",
       "        text-align: right;\n",
       "    }\n",
       "</style>\n",
       "<table border=\"1\" class=\"dataframe\">\n",
       "  <thead>\n",
       "    <tr style=\"text-align: right;\">\n",
       "      <th></th>\n",
       "      <th>Survived</th>\n",
       "      <th>Pclass</th>\n",
       "      <th>Sex</th>\n",
       "      <th>Age</th>\n",
       "      <th>SibSp</th>\n",
       "      <th>Parch</th>\n",
       "      <th>Fare</th>\n",
       "      <th>Embarked</th>\n",
       "    </tr>\n",
       "  </thead>\n",
       "  <tbody>\n",
       "    <tr>\n",
       "      <th>0</th>\n",
       "      <td>0</td>\n",
       "      <td>3</td>\n",
       "      <td>male</td>\n",
       "      <td>22.0</td>\n",
       "      <td>1</td>\n",
       "      <td>0</td>\n",
       "      <td>7.2500</td>\n",
       "      <td>S</td>\n",
       "    </tr>\n",
       "    <tr>\n",
       "      <th>1</th>\n",
       "      <td>1</td>\n",
       "      <td>1</td>\n",
       "      <td>female</td>\n",
       "      <td>38.0</td>\n",
       "      <td>1</td>\n",
       "      <td>0</td>\n",
       "      <td>71.2833</td>\n",
       "      <td>C</td>\n",
       "    </tr>\n",
       "    <tr>\n",
       "      <th>2</th>\n",
       "      <td>1</td>\n",
       "      <td>3</td>\n",
       "      <td>female</td>\n",
       "      <td>26.0</td>\n",
       "      <td>0</td>\n",
       "      <td>0</td>\n",
       "      <td>7.9250</td>\n",
       "      <td>S</td>\n",
       "    </tr>\n",
       "    <tr>\n",
       "      <th>3</th>\n",
       "      <td>1</td>\n",
       "      <td>1</td>\n",
       "      <td>female</td>\n",
       "      <td>35.0</td>\n",
       "      <td>1</td>\n",
       "      <td>0</td>\n",
       "      <td>53.1000</td>\n",
       "      <td>S</td>\n",
       "    </tr>\n",
       "    <tr>\n",
       "      <th>4</th>\n",
       "      <td>0</td>\n",
       "      <td>3</td>\n",
       "      <td>male</td>\n",
       "      <td>35.0</td>\n",
       "      <td>0</td>\n",
       "      <td>0</td>\n",
       "      <td>8.0500</td>\n",
       "      <td>S</td>\n",
       "    </tr>\n",
       "  </tbody>\n",
       "</table>\n",
       "</div>"
      ],
      "text/plain": [
       "   Survived  Pclass     Sex   Age  SibSp  Parch     Fare Embarked\n",
       "0         0       3    male  22.0      1      0   7.2500        S\n",
       "1         1       1  female  38.0      1      0  71.2833        C\n",
       "2         1       3  female  26.0      0      0   7.9250        S\n",
       "3         1       1  female  35.0      1      0  53.1000        S\n",
       "4         0       3    male  35.0      0      0   8.0500        S"
      ]
     },
     "metadata": {},
     "output_type": "display_data"
    },
    {
     "data": {
      "text/plain": [
       "'Testing Data:'"
      ]
     },
     "metadata": {},
     "output_type": "display_data"
    },
    {
     "data": {
      "text/html": [
       "<div>\n",
       "<style scoped>\n",
       "    .dataframe tbody tr th:only-of-type {\n",
       "        vertical-align: middle;\n",
       "    }\n",
       "\n",
       "    .dataframe tbody tr th {\n",
       "        vertical-align: top;\n",
       "    }\n",
       "\n",
       "    .dataframe thead th {\n",
       "        text-align: right;\n",
       "    }\n",
       "</style>\n",
       "<table border=\"1\" class=\"dataframe\">\n",
       "  <thead>\n",
       "    <tr style=\"text-align: right;\">\n",
       "      <th></th>\n",
       "      <th>Pclass</th>\n",
       "      <th>Sex</th>\n",
       "      <th>Age</th>\n",
       "      <th>SibSp</th>\n",
       "      <th>Parch</th>\n",
       "      <th>Fare</th>\n",
       "      <th>Embarked</th>\n",
       "    </tr>\n",
       "  </thead>\n",
       "  <tbody>\n",
       "    <tr>\n",
       "      <th>0</th>\n",
       "      <td>3</td>\n",
       "      <td>male</td>\n",
       "      <td>34.5</td>\n",
       "      <td>0</td>\n",
       "      <td>0</td>\n",
       "      <td>7.8292</td>\n",
       "      <td>Q</td>\n",
       "    </tr>\n",
       "    <tr>\n",
       "      <th>1</th>\n",
       "      <td>3</td>\n",
       "      <td>female</td>\n",
       "      <td>47.0</td>\n",
       "      <td>1</td>\n",
       "      <td>0</td>\n",
       "      <td>7.0000</td>\n",
       "      <td>S</td>\n",
       "    </tr>\n",
       "    <tr>\n",
       "      <th>2</th>\n",
       "      <td>2</td>\n",
       "      <td>male</td>\n",
       "      <td>62.0</td>\n",
       "      <td>0</td>\n",
       "      <td>0</td>\n",
       "      <td>9.6875</td>\n",
       "      <td>Q</td>\n",
       "    </tr>\n",
       "    <tr>\n",
       "      <th>3</th>\n",
       "      <td>3</td>\n",
       "      <td>male</td>\n",
       "      <td>27.0</td>\n",
       "      <td>0</td>\n",
       "      <td>0</td>\n",
       "      <td>8.6625</td>\n",
       "      <td>S</td>\n",
       "    </tr>\n",
       "    <tr>\n",
       "      <th>4</th>\n",
       "      <td>3</td>\n",
       "      <td>female</td>\n",
       "      <td>22.0</td>\n",
       "      <td>1</td>\n",
       "      <td>1</td>\n",
       "      <td>12.2875</td>\n",
       "      <td>S</td>\n",
       "    </tr>\n",
       "  </tbody>\n",
       "</table>\n",
       "</div>"
      ],
      "text/plain": [
       "   Pclass     Sex   Age  SibSp  Parch     Fare Embarked\n",
       "0       3    male  34.5      0      0   7.8292        Q\n",
       "1       3  female  47.0      1      0   7.0000        S\n",
       "2       2    male  62.0      0      0   9.6875        Q\n",
       "3       3    male  27.0      0      0   8.6625        S\n",
       "4       3  female  22.0      1      1  12.2875        S"
      ]
     },
     "metadata": {},
     "output_type": "display_data"
    }
   ],
   "source": [
    "#Remove features not used\n",
    "for n in [train, test]:\n",
    "    n.drop(labels=[\"PassengerId\", \"Name\", \"Cabin\", \"Ticket\"], axis=1, inplace=True)\n",
    "    \n",
    "display(\"Training Data:\",train.head(),\"Testing Data:\",test.head())\n"
   ]
  },
  {
   "cell_type": "code",
   "execution_count": 7,
   "metadata": {},
   "outputs": [
    {
     "name": "stdout",
     "output_type": "stream",
     "text": [
      "29.699117647058763\n",
      "32.2042079685746\n",
      "30.272590361445815\n",
      "35.6271884892086\n"
     ]
    }
   ],
   "source": [
    "for n in [train, test]:\n",
    "    for c in [\"Age\", \"Fare\"]:\n",
    "        n[c].fillna(np.mean(n[c]), inplace=True)\n",
    "        print(np.mean(n[c]))"
   ]
  },
  {
   "cell_type": "code",
   "execution_count": 8,
   "metadata": {},
   "outputs": [
    {
     "data": {
      "text/html": [
       "<div>\n",
       "<style scoped>\n",
       "    .dataframe tbody tr th:only-of-type {\n",
       "        vertical-align: middle;\n",
       "    }\n",
       "\n",
       "    .dataframe tbody tr th {\n",
       "        vertical-align: top;\n",
       "    }\n",
       "\n",
       "    .dataframe thead th {\n",
       "        text-align: right;\n",
       "    }\n",
       "</style>\n",
       "<table border=\"1\" class=\"dataframe\">\n",
       "  <thead>\n",
       "    <tr style=\"text-align: right;\">\n",
       "      <th></th>\n",
       "      <th>Survived</th>\n",
       "      <th>Pclass</th>\n",
       "      <th>Sex</th>\n",
       "      <th>Age</th>\n",
       "      <th>SibSp</th>\n",
       "      <th>Parch</th>\n",
       "      <th>Fare</th>\n",
       "      <th>Embarked</th>\n",
       "    </tr>\n",
       "  </thead>\n",
       "  <tbody>\n",
       "    <tr>\n",
       "      <th>61</th>\n",
       "      <td>1</td>\n",
       "      <td>1</td>\n",
       "      <td>female</td>\n",
       "      <td>38.0</td>\n",
       "      <td>0</td>\n",
       "      <td>0</td>\n",
       "      <td>80.0</td>\n",
       "      <td>NaN</td>\n",
       "    </tr>\n",
       "    <tr>\n",
       "      <th>829</th>\n",
       "      <td>1</td>\n",
       "      <td>1</td>\n",
       "      <td>female</td>\n",
       "      <td>62.0</td>\n",
       "      <td>0</td>\n",
       "      <td>0</td>\n",
       "      <td>80.0</td>\n",
       "      <td>NaN</td>\n",
       "    </tr>\n",
       "  </tbody>\n",
       "</table>\n",
       "</div>"
      ],
      "text/plain": [
       "     Survived  Pclass     Sex   Age  SibSp  Parch  Fare Embarked\n",
       "61          1       1  female  38.0      0      0  80.0      NaN\n",
       "829         1       1  female  62.0      0      0  80.0      NaN"
      ]
     },
     "metadata": {},
     "output_type": "display_data"
    }
   ],
   "source": [
    "#Empty spaces in embarked\n",
    "train_null = train[train.isnull().any(axis=1)]\n",
    "\n",
    "display (train_null)"
   ]
  },
  {
   "cell_type": "code",
   "execution_count": 9,
   "metadata": {},
   "outputs": [
    {
     "data": {
      "text/html": [
       "<div>\n",
       "<style scoped>\n",
       "    .dataframe tbody tr th:only-of-type {\n",
       "        vertical-align: middle;\n",
       "    }\n",
       "\n",
       "    .dataframe tbody tr th {\n",
       "        vertical-align: top;\n",
       "    }\n",
       "\n",
       "    .dataframe thead th {\n",
       "        text-align: right;\n",
       "    }\n",
       "</style>\n",
       "<table border=\"1\" class=\"dataframe\">\n",
       "  <thead>\n",
       "    <tr style=\"text-align: right;\">\n",
       "      <th></th>\n",
       "      <th>Pclass</th>\n",
       "      <th>Sex</th>\n",
       "      <th>Age</th>\n",
       "      <th>SibSp</th>\n",
       "      <th>Parch</th>\n",
       "      <th>Fare</th>\n",
       "      <th>Embarked</th>\n",
       "    </tr>\n",
       "  </thead>\n",
       "  <tbody>\n",
       "  </tbody>\n",
       "</table>\n",
       "</div>"
      ],
      "text/plain": [
       "Empty DataFrame\n",
       "Columns: [Pclass, Sex, Age, SibSp, Parch, Fare, Embarked]\n",
       "Index: []"
      ]
     },
     "metadata": {},
     "output_type": "display_data"
    },
    {
     "data": {
      "text/plain": [
       "0"
      ]
     },
     "metadata": {},
     "output_type": "display_data"
    }
   ],
   "source": [
    "#No more empty spaces (NaN)\n",
    "test_null = test[test.isnull().any(axis=1)]\n",
    "\n",
    "display (test_null)\n",
    "display(len(test[test.isnull().values==True]))"
   ]
  },
  {
   "cell_type": "code",
   "execution_count": 10,
   "metadata": {},
   "outputs": [
    {
     "name": "stdout",
     "output_type": "stream",
     "text": [
      "[('S', 644)]\n"
     ]
    }
   ],
   "source": [
    "c1 = Counter(train.iloc[:,7])\n",
    "print (c1.most_common(1))\n"
   ]
  },
  {
   "cell_type": "code",
   "execution_count": 11,
   "metadata": {},
   "outputs": [],
   "source": [
    "train.iloc[:,7].fillna('S', inplace=True)"
   ]
  },
  {
   "cell_type": "markdown",
   "metadata": {},
   "source": [
    "## Trainning Data Visualisation"
   ]
  },
  {
   "cell_type": "markdown",
   "metadata": {},
   "source": [
    "#### Pclass Data"
   ]
  },
  {
   "cell_type": "code",
   "execution_count": 12,
   "metadata": {},
   "outputs": [
    {
     "data": {
      "image/png": "[encoded data removed]",
      "text/plain": [
       "<Figure size 432x288 with 1 Axes>"
      ]
     },
     "metadata": {},
     "output_type": "display_data"
    }
   ],
   "source": [
    "pclass_plot = train.pivot_table(index = \"Pclass\", values = \"Survived\")\n",
    "pclass_plot.plot.bar()\n",
    "plt.show()"
   ]
  },
  {
   "cell_type": "code",
   "execution_count": 13,
   "metadata": {},
   "outputs": [
    {
     "data": {
      "text/html": [
       "<div>\n",
       "<style scoped>\n",
       "    .dataframe tbody tr th:only-of-type {\n",
       "        vertical-align: middle;\n",
       "    }\n",
       "\n",
       "    .dataframe tbody tr th {\n",
       "        vertical-align: top;\n",
       "    }\n",
       "\n",
       "    .dataframe thead th {\n",
       "        text-align: right;\n",
       "    }\n",
       "</style>\n",
       "<table border=\"1\" class=\"dataframe\">\n",
       "  <thead>\n",
       "    <tr style=\"text-align: right;\">\n",
       "      <th></th>\n",
       "      <th>Pclass</th>\n",
       "      <th>Survived</th>\n",
       "    </tr>\n",
       "  </thead>\n",
       "  <tbody>\n",
       "    <tr>\n",
       "      <th>0</th>\n",
       "      <td>1</td>\n",
       "      <td>0.629630</td>\n",
       "    </tr>\n",
       "    <tr>\n",
       "      <th>1</th>\n",
       "      <td>2</td>\n",
       "      <td>0.472826</td>\n",
       "    </tr>\n",
       "    <tr>\n",
       "      <th>2</th>\n",
       "      <td>3</td>\n",
       "      <td>0.242363</td>\n",
       "    </tr>\n",
       "  </tbody>\n",
       "</table>\n",
       "</div>"
      ],
      "text/plain": [
       "   Pclass  Survived\n",
       "0       1  0.629630\n",
       "1       2  0.472826\n",
       "2       3  0.242363"
      ]
     },
     "metadata": {},
     "output_type": "display_data"
    }
   ],
   "source": [
    "display(train[['Pclass', 'Survived']].groupby(['Pclass'],as_index=False).mean().sort_values(by='Survived', ascending=False))"
   ]
  },
  {
   "cell_type": "markdown",
   "metadata": {},
   "source": [
    "#### Sex Data"
   ]
  },
  {
   "cell_type": "code",
   "execution_count": 14,
   "metadata": {},
   "outputs": [
    {
     "data": {
      "image/png": "[encoded data removed]",
      "text/plain": [
       "<Figure size 432x288 with 1 Axes>"
      ]
     },
     "metadata": {},
     "output_type": "display_data"
    }
   ],
   "source": [
    "sex_plot = train.pivot_table(index = \"Sex\", values = \"Survived\")\n",
    "sex_plot.plot.bar()\n",
    "plt.show()"
   ]
  },
  {
   "cell_type": "markdown",
   "metadata": {},
   "source": [
    "#### Age Data"
   ]
  },
  {
   "cell_type": "code",
   "execution_count": 15,
   "metadata": {},
   "outputs": [
    {
     "name": "stderr",
     "output_type": "stream",
     "text": [
      "C:\\ProgramData\\Anaconda3\\lib\\site-packages\\matplotlib\\axes\\_axes.py:6462: UserWarning: The 'normed' kwarg is deprecated, and has been replaced by the 'density' kwarg.\n",
      "  warnings.warn(\"The 'normed' kwarg is deprecated, and has been \"\n",
      "C:\\ProgramData\\Anaconda3\\lib\\site-packages\\matplotlib\\axes\\_axes.py:6462: UserWarning: The 'normed' kwarg is deprecated, and has been replaced by the 'density' kwarg.\n",
      "  warnings.warn(\"The 'normed' kwarg is deprecated, and has been \"\n"
     ]
    },
    {
     "data": {
      "image/png": "[encoded data removed]",
      "text/plain": [
       "<Figure size 432x216 with 2 Axes>"
      ]
     },
     "metadata": {},
     "output_type": "display_data"
    }
   ],
   "source": [
    "g = sns.FacetGrid(train, col='Survived')\n",
    "g = g.map(sns.distplot, \"Age\")"
   ]
  },
  {
   "cell_type": "markdown",
   "metadata": {},
   "source": [
    "#### Sibsp Data"
   ]
  },
  {
   "cell_type": "code",
   "execution_count": 16,
   "metadata": {},
   "outputs": [
    {
     "data": {
      "image/png": "[encoded data removed]",
      "text/plain": [
       "<Figure size 432x288 with 1 Axes>"
      ]
     },
     "metadata": {},
     "output_type": "display_data"
    }
   ],
   "source": [
    "sibsp_plot = train.pivot_table(index = \"SibSp\", values = \"Survived\")\n",
    "sibsp_plot.plot.bar()\n",
    "plt.show()"
   ]
  },
  {
   "cell_type": "markdown",
   "metadata": {},
   "source": [
    "#### Parch Data"
   ]
  },
  {
   "cell_type": "code",
   "execution_count": 17,
   "metadata": {},
   "outputs": [
    {
     "data": {
      "image/png": "[encoded data removed]",
      "text/plain": [
       "<Figure size 432x288 with 1 Axes>"
      ]
     },
     "metadata": {},
     "output_type": "display_data"
    }
   ],
   "source": [
    "parch_plot = train.pivot_table(index = \"Parch\", values = \"Survived\")\n",
    "parch_plot.plot.bar()\n",
    "plt.show()"
   ]
  },
  {
   "cell_type": "markdown",
   "metadata": {},
   "source": [
    "#### Fare Data"
   ]
  },
  {
   "cell_type": "code",
   "execution_count": 18,
   "metadata": {},
   "outputs": [
    {
     "name": "stderr",
     "output_type": "stream",
     "text": [
      "C:\\ProgramData\\Anaconda3\\lib\\site-packages\\matplotlib\\axes\\_axes.py:6462: UserWarning: The 'normed' kwarg is deprecated, and has been replaced by the 'density' kwarg.\n",
      "  warnings.warn(\"The 'normed' kwarg is deprecated, and has been \"\n",
      "C:\\ProgramData\\Anaconda3\\lib\\site-packages\\matplotlib\\axes\\_axes.py:6462: UserWarning: The 'normed' kwarg is deprecated, and has been replaced by the 'density' kwarg.\n",
      "  warnings.warn(\"The 'normed' kwarg is deprecated, and has been \"\n"
     ]
    },
    {
     "data": {
      "image/png": "[encoded data removed]",
      "text/plain": [
       "<Figure size 432x216 with 2 Axes>"
      ]
     },
     "metadata": {},
     "output_type": "display_data"
    }
   ],
   "source": [
    "g = sns.FacetGrid(train, col='Survived')\n",
    "g = g.map(sns.distplot, \"Fare\")"
   ]
  },
  {
   "cell_type": "markdown",
   "metadata": {},
   "source": [
    "#### Embarked Data"
   ]
  },
  {
   "cell_type": "code",
   "execution_count": 19,
   "metadata": {},
   "outputs": [
    {
     "data": {
      "image/png": "[encoded data removed]",
      "text/plain": [
       "<Figure size 432x288 with 1 Axes>"
      ]
     },
     "metadata": {},
     "output_type": "display_data"
    }
   ],
   "source": [
    "embarked_plot = train.pivot_table(index = \"Embarked\", values = \"Survived\")\n",
    "embarked_plot.plot.bar()\n",
    "plt.show()"
   ]
  },
  {
   "cell_type": "markdown",
   "metadata": {},
   "source": [
    "### Dataset Modifications"
   ]
  },
  {
   "cell_type": "code",
   "execution_count": 20,
   "metadata": {},
   "outputs": [],
   "source": [
    "train['Family']=train['SibSp']+train['Parch']\n",
    "test['Family']=test['SibSp']+test['Parch']"
   ]
  },
  {
   "cell_type": "code",
   "execution_count": 21,
   "metadata": {},
   "outputs": [],
   "source": [
    "min_max_scaler = preprocessing.MinMaxScaler()\n",
    "for dt in [train, test]:\n",
    "       for c in [\"Age\", \"Fare\"]:\n",
    "           dt[c] = min_max_scaler.fit_transform(dt[[c]].values.astype(float))"
   ]
  },
  {
   "cell_type": "code",
   "execution_count": 22,
   "metadata": {},
   "outputs": [],
   "source": [
    "def sparse(series,col): \n",
    "    for c in col:\n",
    "        series = pd.concat([series, pd.get_dummies(series[c], prefix=c)], axis=1)\n",
    "        series = series.drop(c, axis=1)\n",
    "        return series"
   ]
  },
  {
   "cell_type": "code",
   "execution_count": 23,
   "metadata": {},
   "outputs": [],
   "source": [
    "# Value of 1 represents female\n",
    "train=sparse(train,['Sex']) \n",
    "train=sparse(train,['Embarked'])\n",
    "train=sparse(train,[\"Pclass\"]) \n",
    "train.drop(labels=[\"Sex_male\"], axis=1, inplace=True)\n",
    "test=sparse(test,['Sex']) \n",
    "test=sparse(test,['Embarked'])\n",
    "test=sparse(test,[\"Pclass\"]) \n",
    "test.drop(labels=[\"Sex_male\"], axis=1, inplace=True)"
   ]
  },
  {
   "cell_type": "code",
   "execution_count": 24,
   "metadata": {},
   "outputs": [],
   "source": [
    "train.drop(labels=[\"SibSp\",\"Parch\"], axis=1, inplace=True)\n",
    "test.drop(labels=[\"SibSp\",\"Parch\"], axis=1, inplace=True)"
   ]
  },
  {
   "cell_type": "code",
   "execution_count": 25,
   "metadata": {},
   "outputs": [
    {
     "data": {
      "text/html": [
       "<div>\n",
       "<style scoped>\n",
       "    .dataframe tbody tr th:only-of-type {\n",
       "        vertical-align: middle;\n",
       "    }\n",
       "\n",
       "    .dataframe tbody tr th {\n",
       "        vertical-align: top;\n",
       "    }\n",
       "\n",
       "    .dataframe thead th {\n",
       "        text-align: right;\n",
       "    }\n",
       "</style>\n",
       "<table border=\"1\" class=\"dataframe\">\n",
       "  <thead>\n",
       "    <tr style=\"text-align: right;\">\n",
       "      <th></th>\n",
       "      <th>Survived</th>\n",
       "      <th>Age</th>\n",
       "      <th>Fare</th>\n",
       "      <th>Family</th>\n",
       "      <th>Sex_female</th>\n",
       "      <th>Embarked_C</th>\n",
       "      <th>Embarked_Q</th>\n",
       "      <th>Embarked_S</th>\n",
       "      <th>Pclass_1</th>\n",
       "      <th>Pclass_2</th>\n",
       "      <th>Pclass_3</th>\n",
       "    </tr>\n",
       "  </thead>\n",
       "  <tbody>\n",
       "    <tr>\n",
       "      <th>0</th>\n",
       "      <td>0</td>\n",
       "      <td>0.271174</td>\n",
       "      <td>0.014151</td>\n",
       "      <td>1</td>\n",
       "      <td>0</td>\n",
       "      <td>0</td>\n",
       "      <td>0</td>\n",
       "      <td>1</td>\n",
       "      <td>0</td>\n",
       "      <td>0</td>\n",
       "      <td>1</td>\n",
       "    </tr>\n",
       "    <tr>\n",
       "      <th>1</th>\n",
       "      <td>1</td>\n",
       "      <td>0.472229</td>\n",
       "      <td>0.139136</td>\n",
       "      <td>1</td>\n",
       "      <td>1</td>\n",
       "      <td>1</td>\n",
       "      <td>0</td>\n",
       "      <td>0</td>\n",
       "      <td>1</td>\n",
       "      <td>0</td>\n",
       "      <td>0</td>\n",
       "    </tr>\n",
       "    <tr>\n",
       "      <th>2</th>\n",
       "      <td>1</td>\n",
       "      <td>0.321438</td>\n",
       "      <td>0.015469</td>\n",
       "      <td>0</td>\n",
       "      <td>1</td>\n",
       "      <td>0</td>\n",
       "      <td>0</td>\n",
       "      <td>1</td>\n",
       "      <td>0</td>\n",
       "      <td>0</td>\n",
       "      <td>1</td>\n",
       "    </tr>\n",
       "    <tr>\n",
       "      <th>3</th>\n",
       "      <td>1</td>\n",
       "      <td>0.434531</td>\n",
       "      <td>0.103644</td>\n",
       "      <td>1</td>\n",
       "      <td>1</td>\n",
       "      <td>0</td>\n",
       "      <td>0</td>\n",
       "      <td>1</td>\n",
       "      <td>1</td>\n",
       "      <td>0</td>\n",
       "      <td>0</td>\n",
       "    </tr>\n",
       "    <tr>\n",
       "      <th>4</th>\n",
       "      <td>0</td>\n",
       "      <td>0.434531</td>\n",
       "      <td>0.015713</td>\n",
       "      <td>0</td>\n",
       "      <td>0</td>\n",
       "      <td>0</td>\n",
       "      <td>0</td>\n",
       "      <td>1</td>\n",
       "      <td>0</td>\n",
       "      <td>0</td>\n",
       "      <td>1</td>\n",
       "    </tr>\n",
       "  </tbody>\n",
       "</table>\n",
       "</div>"
      ],
      "text/plain": [
       "   Survived       Age      Fare  Family  Sex_female  Embarked_C  Embarked_Q  \\\n",
       "0         0  0.271174  0.014151       1           0           0           0   \n",
       "1         1  0.472229  0.139136       1           1           1           0   \n",
       "2         1  0.321438  0.015469       0           1           0           0   \n",
       "3         1  0.434531  0.103644       1           1           0           0   \n",
       "4         0  0.434531  0.015713       0           0           0           0   \n",
       "\n",
       "   Embarked_S  Pclass_1  Pclass_2  Pclass_3  \n",
       "0           1         0         0         1  \n",
       "1           0         1         0         0  \n",
       "2           1         0         0         1  \n",
       "3           1         1         0         0  \n",
       "4           1         0         0         1  "
      ]
     },
     "metadata": {},
     "output_type": "display_data"
    },
    {
     "data": {
      "text/html": [
       "<div>\n",
       "<style scoped>\n",
       "    .dataframe tbody tr th:only-of-type {\n",
       "        vertical-align: middle;\n",
       "    }\n",
       "\n",
       "    .dataframe tbody tr th {\n",
       "        vertical-align: top;\n",
       "    }\n",
       "\n",
       "    .dataframe thead th {\n",
       "        text-align: right;\n",
       "    }\n",
       "</style>\n",
       "<table border=\"1\" class=\"dataframe\">\n",
       "  <thead>\n",
       "    <tr style=\"text-align: right;\">\n",
       "      <th></th>\n",
       "      <th>Age</th>\n",
       "      <th>Fare</th>\n",
       "      <th>Family</th>\n",
       "      <th>Sex_female</th>\n",
       "      <th>Embarked_C</th>\n",
       "      <th>Embarked_Q</th>\n",
       "      <th>Embarked_S</th>\n",
       "      <th>Pclass_1</th>\n",
       "      <th>Pclass_2</th>\n",
       "      <th>Pclass_3</th>\n",
       "    </tr>\n",
       "  </thead>\n",
       "  <tbody>\n",
       "    <tr>\n",
       "      <th>0</th>\n",
       "      <td>0.452723</td>\n",
       "      <td>0.015282</td>\n",
       "      <td>0</td>\n",
       "      <td>0</td>\n",
       "      <td>0</td>\n",
       "      <td>1</td>\n",
       "      <td>0</td>\n",
       "      <td>0</td>\n",
       "      <td>0</td>\n",
       "      <td>1</td>\n",
       "    </tr>\n",
       "    <tr>\n",
       "      <th>1</th>\n",
       "      <td>0.617566</td>\n",
       "      <td>0.013663</td>\n",
       "      <td>1</td>\n",
       "      <td>1</td>\n",
       "      <td>0</td>\n",
       "      <td>0</td>\n",
       "      <td>1</td>\n",
       "      <td>0</td>\n",
       "      <td>0</td>\n",
       "      <td>1</td>\n",
       "    </tr>\n",
       "    <tr>\n",
       "      <th>2</th>\n",
       "      <td>0.815377</td>\n",
       "      <td>0.018909</td>\n",
       "      <td>0</td>\n",
       "      <td>0</td>\n",
       "      <td>0</td>\n",
       "      <td>1</td>\n",
       "      <td>0</td>\n",
       "      <td>0</td>\n",
       "      <td>1</td>\n",
       "      <td>0</td>\n",
       "    </tr>\n",
       "    <tr>\n",
       "      <th>3</th>\n",
       "      <td>0.353818</td>\n",
       "      <td>0.016908</td>\n",
       "      <td>0</td>\n",
       "      <td>0</td>\n",
       "      <td>0</td>\n",
       "      <td>0</td>\n",
       "      <td>1</td>\n",
       "      <td>0</td>\n",
       "      <td>0</td>\n",
       "      <td>1</td>\n",
       "    </tr>\n",
       "    <tr>\n",
       "      <th>4</th>\n",
       "      <td>0.287881</td>\n",
       "      <td>0.023984</td>\n",
       "      <td>2</td>\n",
       "      <td>1</td>\n",
       "      <td>0</td>\n",
       "      <td>0</td>\n",
       "      <td>1</td>\n",
       "      <td>0</td>\n",
       "      <td>0</td>\n",
       "      <td>1</td>\n",
       "    </tr>\n",
       "  </tbody>\n",
       "</table>\n",
       "</div>"
      ],
      "text/plain": [
       "        Age      Fare  Family  Sex_female  Embarked_C  Embarked_Q  Embarked_S  \\\n",
       "0  0.452723  0.015282       0           0           0           1           0   \n",
       "1  0.617566  0.013663       1           1           0           0           1   \n",
       "2  0.815377  0.018909       0           0           0           1           0   \n",
       "3  0.353818  0.016908       0           0           0           0           1   \n",
       "4  0.287881  0.023984       2           1           0           0           1   \n",
       "\n",
       "   Pclass_1  Pclass_2  Pclass_3  \n",
       "0         0         0         1  \n",
       "1         0         0         1  \n",
       "2         0         1         0  \n",
       "3         0         0         1  \n",
       "4         0         0         1  "
      ]
     },
     "metadata": {},
     "output_type": "display_data"
    }
   ],
   "source": [
    "display(train.head(),test.head())"
   ]
  },
  {
   "cell_type": "code",
   "execution_count": 26,
   "metadata": {},
   "outputs": [
    {
     "name": "stdout",
     "output_type": "stream",
     "text": [
      "(891,)\n"
     ]
    },
    {
     "data": {
      "text/plain": [
       "0    0\n",
       "1    1\n",
       "2    1\n",
       "3    1\n",
       "4    0\n",
       "Name: Survived, dtype: int64"
      ]
     },
     "metadata": {},
     "output_type": "display_data"
    }
   ],
   "source": [
    "labels=train.iloc[:,0]\n",
    "print(labels.shape)\n",
    "display(labels[0:5])\n",
    "train.drop(labels=[\"Survived\"], axis=1, inplace=True)"
   ]
  },
  {
   "cell_type": "markdown",
   "metadata": {},
   "source": [
    "## Building Neural Network"
   ]
  },
  {
   "cell_type": "code",
   "execution_count": 27,
   "metadata": {},
   "outputs": [
    {
     "name": "stdout",
     "output_type": "stream",
     "text": [
      "X_train:(801, 10)\n",
      "Y_train:(801, 1)\n",
      "X_val:(90, 10)\n",
      "Y_val:(90, 1)\n"
     ]
    }
   ],
   "source": [
    "size=int(train.shape[0] * 0.9)\n",
    "#Creating validation set\n",
    "X_train = train[:size].values\n",
    "Y_train= np.reshape(labels[:size].values,(size,1))\n",
    "\n",
    "X_val=train[size:].values\n",
    "Y_val= np.reshape(labels[size:].values,(train.shape[0]-size,1))\n",
    "\n",
    "print(\"X_train:{}\".format(X_train.shape))\n",
    "print(\"Y_train:{}\".format(Y_train.shape))\n",
    "print(\"X_val:{}\".format(X_val.shape))\n",
    "print(\"Y_val:{}\".format(Y_val.shape))"
   ]
  },
  {
   "cell_type": "code",
   "execution_count": 28,
   "metadata": {},
   "outputs": [],
   "source": [
    "learning_rate = 0.001\n",
    "epochs = 200\n",
    "batch_size = 100\n",
    "prob_test=0.5"
   ]
  },
  {
   "cell_type": "code",
   "execution_count": 29,
   "metadata": {},
   "outputs": [],
   "source": [
    "#layers\n",
    "h1_n=32\n",
    "h2_n=32\n",
    "h3_n=32\n",
    "h4_n=64\n",
    "\n",
    "#weights initialization using xavier\n",
    "k_in=tf.contrib.layers.xavier_initializer()"
   ]
  },
  {
   "cell_type": "code",
   "execution_count": 30,
   "metadata": {},
   "outputs": [],
   "source": [
    " class ReturnValue(object):\n",
    "    def __init__(self, x, y,p,prob, cost,optimizer, accuracy):\n",
    "      self.x = x\n",
    "      self.y = y\n",
    "      self.p = p\n",
    "      self.prob = prob\n",
    "      self.cost = cost\n",
    "      self.optimizer = optimizer\n",
    "      self.accuracy = accuracy"
   ]
  },
  {
   "cell_type": "code",
   "execution_count": 31,
   "metadata": {},
   "outputs": [
    {
     "name": "stdout",
     "output_type": "stream",
     "text": [
      "(?, 10)\n"
     ]
    }
   ],
   "source": [
    "x = tf.placeholder(tf.float32, [None, train.shape[1]])\n",
    "y = tf.placeholder(tf.float32, [None, 1])\n",
    "prob = tf.placeholder(\"float\")\n",
    "print(x.shape)"
   ]
  },
  {
   "cell_type": "code",
   "execution_count": 32,
   "metadata": {},
   "outputs": [],
   "source": [
    "# Neural Network\n",
    "    \n",
    "def feedfwd(x,y,prob):  \n",
    "    \n",
    "    h1_layer = tf.layers.dense(x, h1_n, kernel_initializer=k_in)\n",
    "    h1_layer = tf.layers.batch_normalization(h1_layer, training=True)\n",
    "    h1_layer = tf.nn.relu(h1_layer)\n",
    "    h1_layer = tf.nn.dropout(h1_layer,keep_prob=prob,seed=1)\n",
    "    \n",
    "    h2_layer = tf.layers.dense(h1_layer, h2_n,kernel_initializer=k_in)\n",
    "    h2_layer = tf.layers.batch_normalization(h2_layer, training=True)\n",
    "    h2_layer = tf.nn.relu(h2_layer)\n",
    "    h2_layer = tf.nn.dropout(h2_layer,keep_prob=prob,seed=1)\n",
    "    \n",
    "    h3_layer = tf.layers.dense(h2_layer, h3_n,kernel_initializer=k_in)\n",
    "    h3_layer = tf.layers.batch_normalization(h3_layer, training=True)\n",
    "    h3_layer = tf.nn.relu(h3_layer)\n",
    "    h3_layer = tf.nn.dropout(h3_layer,keep_prob=prob,seed=1)\n",
    "    \n",
    "    h4_layer = tf.layers.dense(h3_layer, h4_n,kernel_initializer=k_in)\n",
    "    h4_layer = tf.layers.batch_normalization(h4_layer, training=True)\n",
    "    h4_layer = tf.nn.relu(h4_layer)\n",
    "    h4_layer = tf.nn.dropout(h4_layer,keep_prob=prob,seed=1)\n",
    "    \n",
    "    output = tf.layers.dense(h3_layer, 1, activation=None) # h4 not used\n",
    "    \n",
    "    cost = tf.reduce_mean(tf.nn.sigmoid_cross_entropy_with_logits(labels=y,logits=output))\n",
    "    \n",
    "    p = tf.nn.sigmoid(output)\n",
    "    comparison = tf.equal(tf.round(p), y)\n",
    "    accuracy = tf.reduce_mean(tf.cast(comparison, tf.float32))\n",
    "    \n",
    "    optimizer = tf.train.AdamOptimizer(learning_rate=learning_rate).minimize(cost)\n",
    "        \n",
    "    return ReturnValue(x, y,p,prob, cost,optimizer, accuracy)\n",
    "    "
   ]
  },
  {
   "cell_type": "code",
   "execution_count": 33,
   "metadata": {},
   "outputs": [
    {
     "name": "stdout",
     "output_type": "stream",
     "text": [
      "Epoch: 1 / 200 Train Loss: 0.757 Validation Loss: 0.721 Train Accuracy: 0.540 Validation Accuracy: 0.589\n",
      "Epoch: 2 / 200 Train Loss: 0.709 Validation Loss: 0.802 Train Accuracy: 0.610 Validation Accuracy: 0.533\n",
      "Epoch: 3 / 200 Train Loss: 0.798 Validation Loss: 0.642 Train Accuracy: 0.590 Validation Accuracy: 0.611\n",
      "Epoch: 4 / 200 Train Loss: 0.630 Validation Loss: 0.776 Train Accuracy: 0.670 Validation Accuracy: 0.556\n",
      "Epoch: 5 / 200 Train Loss: 0.599 Validation Loss: 0.744 Train Accuracy: 0.680 Validation Accuracy: 0.567\n",
      "Epoch: 6 / 200 Train Loss: 0.669 Validation Loss: 0.752 Train Accuracy: 0.640 Validation Accuracy: 0.600\n",
      "Epoch: 7 / 200 Train Loss: 0.641 Validation Loss: 0.698 Train Accuracy: 0.640 Validation Accuracy: 0.633\n",
      "Epoch: 8 / 200 Train Loss: 0.597 Validation Loss: 0.697 Train Accuracy: 0.650 Validation Accuracy: 0.667\n",
      "Epoch: 9 / 200 Train Loss: 0.712 Validation Loss: 0.607 Train Accuracy: 0.690 Validation Accuracy: 0.700\n",
      "Epoch: 10 / 200 Train Loss: 0.615 Validation Loss: 0.720 Train Accuracy: 0.710 Validation Accuracy: 0.678\n",
      "Epoch: 11 / 200 Train Loss: 0.617 Validation Loss: 0.628 Train Accuracy: 0.690 Validation Accuracy: 0.678\n",
      "Epoch: 12 / 200 Train Loss: 0.606 Validation Loss: 0.659 Train Accuracy: 0.690 Validation Accuracy: 0.667\n",
      "Epoch: 13 / 200 Train Loss: 0.607 Validation Loss: 0.700 Train Accuracy: 0.660 Validation Accuracy: 0.622\n",
      "Epoch: 14 / 200 Train Loss: 0.534 Validation Loss: 0.654 Train Accuracy: 0.770 Validation Accuracy: 0.678\n",
      "Epoch: 15 / 200 Train Loss: 0.573 Validation Loss: 0.635 Train Accuracy: 0.680 Validation Accuracy: 0.656\n",
      "Epoch: 16 / 200 Train Loss: 0.520 Validation Loss: 0.634 Train Accuracy: 0.750 Validation Accuracy: 0.689\n",
      "Epoch: 17 / 200 Train Loss: 0.519 Validation Loss: 0.666 Train Accuracy: 0.770 Validation Accuracy: 0.667\n",
      "Epoch: 18 / 200 Train Loss: 0.578 Validation Loss: 0.607 Train Accuracy: 0.680 Validation Accuracy: 0.700\n",
      "Epoch: 19 / 200 Train Loss: 0.594 Validation Loss: 0.641 Train Accuracy: 0.730 Validation Accuracy: 0.667\n",
      "Epoch: 20 / 200 Train Loss: 0.561 Validation Loss: 0.562 Train Accuracy: 0.700 Validation Accuracy: 0.667\n",
      "Epoch: 21 / 200 Train Loss: 0.482 Validation Loss: 0.547 Train Accuracy: 0.770 Validation Accuracy: 0.733\n",
      "Epoch: 22 / 200 Train Loss: 0.596 Validation Loss: 0.596 Train Accuracy: 0.740 Validation Accuracy: 0.689\n",
      "Epoch: 23 / 200 Train Loss: 0.480 Validation Loss: 0.500 Train Accuracy: 0.780 Validation Accuracy: 0.767\n",
      "Epoch: 24 / 200 Train Loss: 0.495 Validation Loss: 0.569 Train Accuracy: 0.780 Validation Accuracy: 0.722\n",
      "Epoch: 25 / 200 Train Loss: 0.482 Validation Loss: 0.549 Train Accuracy: 0.820 Validation Accuracy: 0.789\n",
      "Epoch: 26 / 200 Train Loss: 0.546 Validation Loss: 0.613 Train Accuracy: 0.730 Validation Accuracy: 0.756\n",
      "Epoch: 27 / 200 Train Loss: 0.471 Validation Loss: 0.594 Train Accuracy: 0.770 Validation Accuracy: 0.700\n",
      "Epoch: 28 / 200 Train Loss: 0.502 Validation Loss: 0.470 Train Accuracy: 0.790 Validation Accuracy: 0.833\n",
      "Epoch: 29 / 200 Train Loss: 0.435 Validation Loss: 0.578 Train Accuracy: 0.790 Validation Accuracy: 0.744\n",
      "Epoch: 30 / 200 Train Loss: 0.459 Validation Loss: 0.529 Train Accuracy: 0.810 Validation Accuracy: 0.767\n",
      "Epoch: 31 / 200 Train Loss: 0.475 Validation Loss: 0.548 Train Accuracy: 0.780 Validation Accuracy: 0.733\n",
      "Epoch: 32 / 200 Train Loss: 0.454 Validation Loss: 0.477 Train Accuracy: 0.810 Validation Accuracy: 0.800\n",
      "Epoch: 33 / 200 Train Loss: 0.500 Validation Loss: 0.516 Train Accuracy: 0.770 Validation Accuracy: 0.789\n",
      "Epoch: 34 / 200 Train Loss: 0.460 Validation Loss: 0.508 Train Accuracy: 0.780 Validation Accuracy: 0.744\n",
      "Epoch: 35 / 200 Train Loss: 0.476 Validation Loss: 0.500 Train Accuracy: 0.750 Validation Accuracy: 0.756\n",
      "Epoch: 36 / 200 Train Loss: 0.463 Validation Loss: 0.516 Train Accuracy: 0.790 Validation Accuracy: 0.744\n",
      "Epoch: 37 / 200 Train Loss: 0.477 Validation Loss: 0.473 Train Accuracy: 0.800 Validation Accuracy: 0.767\n",
      "Epoch: 38 / 200 Train Loss: 0.426 Validation Loss: 0.624 Train Accuracy: 0.810 Validation Accuracy: 0.744\n",
      "Epoch: 39 / 200 Train Loss: 0.430 Validation Loss: 0.511 Train Accuracy: 0.790 Validation Accuracy: 0.778\n",
      "Epoch: 40 / 200 Train Loss: 0.412 Validation Loss: 0.527 Train Accuracy: 0.820 Validation Accuracy: 0.767\n",
      "Epoch: 41 / 200 Train Loss: 0.505 Validation Loss: 0.526 Train Accuracy: 0.770 Validation Accuracy: 0.811\n",
      "Epoch: 42 / 200 Train Loss: 0.460 Validation Loss: 0.446 Train Accuracy: 0.820 Validation Accuracy: 0.789\n",
      "Epoch: 43 / 200 Train Loss: 0.437 Validation Loss: 0.534 Train Accuracy: 0.810 Validation Accuracy: 0.800\n",
      "Epoch: 44 / 200 Train Loss: 0.480 Validation Loss: 0.516 Train Accuracy: 0.770 Validation Accuracy: 0.800\n",
      "Epoch: 45 / 200 Train Loss: 0.425 Validation Loss: 0.482 Train Accuracy: 0.820 Validation Accuracy: 0.767\n",
      "Epoch: 46 / 200 Train Loss: 0.499 Validation Loss: 0.483 Train Accuracy: 0.830 Validation Accuracy: 0.811\n",
      "Epoch: 47 / 200 Train Loss: 0.429 Validation Loss: 0.512 Train Accuracy: 0.790 Validation Accuracy: 0.767\n",
      "Epoch: 48 / 200 Train Loss: 0.470 Validation Loss: 0.468 Train Accuracy: 0.810 Validation Accuracy: 0.800\n",
      "Epoch: 49 / 200 Train Loss: 0.473 Validation Loss: 0.459 Train Accuracy: 0.780 Validation Accuracy: 0.789\n",
      "Epoch: 50 / 200 Train Loss: 0.430 Validation Loss: 0.467 Train Accuracy: 0.780 Validation Accuracy: 0.789\n",
      "Epoch: 51 / 200 Train Loss: 0.480 Validation Loss: 0.508 Train Accuracy: 0.790 Validation Accuracy: 0.778\n",
      "Epoch: 52 / 200 Train Loss: 0.418 Validation Loss: 0.491 Train Accuracy: 0.800 Validation Accuracy: 0.767\n",
      "Epoch: 53 / 200 Train Loss: 0.486 Validation Loss: 0.530 Train Accuracy: 0.810 Validation Accuracy: 0.756\n",
      "Epoch: 54 / 200 Train Loss: 0.446 Validation Loss: 0.493 Train Accuracy: 0.840 Validation Accuracy: 0.767\n",
      "Epoch: 55 / 200 Train Loss: 0.462 Validation Loss: 0.443 Train Accuracy: 0.840 Validation Accuracy: 0.822\n",
      "Epoch: 56 / 200 Train Loss: 0.438 Validation Loss: 0.489 Train Accuracy: 0.830 Validation Accuracy: 0.767\n",
      "Epoch: 57 / 200 Train Loss: 0.441 Validation Loss: 0.467 Train Accuracy: 0.830 Validation Accuracy: 0.778\n",
      "Epoch: 58 / 200 Train Loss: 0.466 Validation Loss: 0.460 Train Accuracy: 0.770 Validation Accuracy: 0.833\n",
      "Epoch: 59 / 200 Train Loss: 0.415 Validation Loss: 0.481 Train Accuracy: 0.810 Validation Accuracy: 0.767\n",
      "Epoch: 60 / 200 Train Loss: 0.473 Validation Loss: 0.447 Train Accuracy: 0.780 Validation Accuracy: 0.800\n",
      "Epoch: 61 / 200 Train Loss: 0.475 Validation Loss: 0.455 Train Accuracy: 0.820 Validation Accuracy: 0.822\n",
      "Epoch: 62 / 200 Train Loss: 0.418 Validation Loss: 0.463 Train Accuracy: 0.860 Validation Accuracy: 0.800\n",
      "Epoch: 63 / 200 Train Loss: 0.457 Validation Loss: 0.467 Train Accuracy: 0.770 Validation Accuracy: 0.778\n",
      "Epoch: 64 / 200 Train Loss: 0.444 Validation Loss: 0.547 Train Accuracy: 0.790 Validation Accuracy: 0.733\n",
      "Epoch: 65 / 200 Train Loss: 0.480 Validation Loss: 0.448 Train Accuracy: 0.820 Validation Accuracy: 0.778\n",
      "Epoch: 66 / 200 Train Loss: 0.453 Validation Loss: 0.506 Train Accuracy: 0.820 Validation Accuracy: 0.789\n",
      "Epoch: 67 / 200 Train Loss: 0.406 Validation Loss: 0.457 Train Accuracy: 0.830 Validation Accuracy: 0.811\n",
      "Epoch: 68 / 200 Train Loss: 0.449 Validation Loss: 0.468 Train Accuracy: 0.780 Validation Accuracy: 0.811\n",
      "Epoch: 69 / 200 Train Loss: 0.417 Validation Loss: 0.514 Train Accuracy: 0.850 Validation Accuracy: 0.800\n",
      "Epoch: 70 / 200 Train Loss: 0.521 Validation Loss: 0.455 Train Accuracy: 0.770 Validation Accuracy: 0.789\n",
      "Epoch: 71 / 200 Train Loss: 0.451 Validation Loss: 0.460 Train Accuracy: 0.810 Validation Accuracy: 0.811\n",
      "Epoch: 72 / 200 Train Loss: 0.421 Validation Loss: 0.435 Train Accuracy: 0.810 Validation Accuracy: 0.789\n",
      "Epoch: 73 / 200 Train Loss: 0.385 Validation Loss: 0.450 Train Accuracy: 0.850 Validation Accuracy: 0.789\n",
      "Epoch: 74 / 200 Train Loss: 0.402 Validation Loss: 0.473 Train Accuracy: 0.850 Validation Accuracy: 0.778\n",
      "Epoch: 75 / 200 Train Loss: 0.483 Validation Loss: 0.402 Train Accuracy: 0.850 Validation Accuracy: 0.833\n",
      "Epoch: 76 / 200 Train Loss: 0.413 Validation Loss: 0.494 Train Accuracy: 0.800 Validation Accuracy: 0.811\n",
      "Epoch: 77 / 200 Train Loss: 0.399 Validation Loss: 0.450 Train Accuracy: 0.840 Validation Accuracy: 0.778\n",
      "Epoch: 78 / 200 Train Loss: 0.405 Validation Loss: 0.534 Train Accuracy: 0.830 Validation Accuracy: 0.822\n",
      "Epoch: 79 / 200 Train Loss: 0.429 Validation Loss: 0.444 Train Accuracy: 0.850 Validation Accuracy: 0.833\n",
      "Epoch: 80 / 200 Train Loss: 0.383 Validation Loss: 0.497 Train Accuracy: 0.830 Validation Accuracy: 0.778\n",
      "Epoch: 81 / 200 Train Loss: 0.384 Validation Loss: 0.432 Train Accuracy: 0.830 Validation Accuracy: 0.800\n",
      "Epoch: 82 / 200 Train Loss: 0.418 Validation Loss: 0.486 Train Accuracy: 0.840 Validation Accuracy: 0.778\n"
     ]
    },
    {
     "name": "stdout",
     "output_type": "stream",
     "text": [
      "Epoch: 83 / 200 Train Loss: 0.417 Validation Loss: 0.462 Train Accuracy: 0.820 Validation Accuracy: 0.778\n",
      "Epoch: 84 / 200 Train Loss: 0.414 Validation Loss: 0.429 Train Accuracy: 0.820 Validation Accuracy: 0.800\n",
      "Epoch: 85 / 200 Train Loss: 0.441 Validation Loss: 0.471 Train Accuracy: 0.800 Validation Accuracy: 0.789\n",
      "Epoch: 86 / 200 Train Loss: 0.399 Validation Loss: 0.463 Train Accuracy: 0.840 Validation Accuracy: 0.756\n",
      "Epoch: 87 / 200 Train Loss: 0.388 Validation Loss: 0.484 Train Accuracy: 0.870 Validation Accuracy: 0.811\n",
      "Epoch: 88 / 200 Train Loss: 0.430 Validation Loss: 0.488 Train Accuracy: 0.820 Validation Accuracy: 0.811\n",
      "Epoch: 89 / 200 Train Loss: 0.404 Validation Loss: 0.476 Train Accuracy: 0.850 Validation Accuracy: 0.789\n",
      "Epoch: 90 / 200 Train Loss: 0.386 Validation Loss: 0.496 Train Accuracy: 0.800 Validation Accuracy: 0.822\n",
      "Epoch: 91 / 200 Train Loss: 0.405 Validation Loss: 0.487 Train Accuracy: 0.820 Validation Accuracy: 0.822\n",
      "Epoch: 92 / 200 Train Loss: 0.470 Validation Loss: 0.474 Train Accuracy: 0.790 Validation Accuracy: 0.811\n",
      "Epoch: 93 / 200 Train Loss: 0.451 Validation Loss: 0.407 Train Accuracy: 0.830 Validation Accuracy: 0.833\n",
      "Epoch: 94 / 200 Train Loss: 0.413 Validation Loss: 0.561 Train Accuracy: 0.840 Validation Accuracy: 0.767\n",
      "Epoch: 95 / 200 Train Loss: 0.392 Validation Loss: 0.405 Train Accuracy: 0.850 Validation Accuracy: 0.833\n",
      "Epoch: 96 / 200 Train Loss: 0.387 Validation Loss: 0.472 Train Accuracy: 0.850 Validation Accuracy: 0.789\n",
      "Epoch: 97 / 200 Train Loss: 0.384 Validation Loss: 0.450 Train Accuracy: 0.850 Validation Accuracy: 0.833\n",
      "Epoch: 98 / 200 Train Loss: 0.425 Validation Loss: 0.408 Train Accuracy: 0.820 Validation Accuracy: 0.856\n",
      "Epoch: 99 / 200 Train Loss: 0.380 Validation Loss: 0.441 Train Accuracy: 0.850 Validation Accuracy: 0.822\n",
      "Epoch: 100 / 200 Train Loss: 0.389 Validation Loss: 0.460 Train Accuracy: 0.840 Validation Accuracy: 0.833\n",
      "Epoch: 101 / 200 Train Loss: 0.407 Validation Loss: 0.478 Train Accuracy: 0.840 Validation Accuracy: 0.800\n",
      "Epoch: 102 / 200 Train Loss: 0.440 Validation Loss: 0.415 Train Accuracy: 0.820 Validation Accuracy: 0.811\n",
      "Epoch: 103 / 200 Train Loss: 0.426 Validation Loss: 0.433 Train Accuracy: 0.820 Validation Accuracy: 0.844\n",
      "Epoch: 104 / 200 Train Loss: 0.395 Validation Loss: 0.455 Train Accuracy: 0.880 Validation Accuracy: 0.811\n",
      "Epoch: 105 / 200 Train Loss: 0.410 Validation Loss: 0.442 Train Accuracy: 0.830 Validation Accuracy: 0.822\n",
      "Epoch: 106 / 200 Train Loss: 0.383 Validation Loss: 0.495 Train Accuracy: 0.840 Validation Accuracy: 0.789\n",
      "Epoch: 107 / 200 Train Loss: 0.456 Validation Loss: 0.515 Train Accuracy: 0.810 Validation Accuracy: 0.778\n",
      "Epoch: 108 / 200 Train Loss: 0.403 Validation Loss: 0.417 Train Accuracy: 0.830 Validation Accuracy: 0.844\n",
      "Epoch: 109 / 200 Train Loss: 0.390 Validation Loss: 0.434 Train Accuracy: 0.850 Validation Accuracy: 0.800\n",
      "Epoch: 110 / 200 Train Loss: 0.417 Validation Loss: 0.459 Train Accuracy: 0.800 Validation Accuracy: 0.822\n",
      "Epoch: 111 / 200 Train Loss: 0.416 Validation Loss: 0.435 Train Accuracy: 0.820 Validation Accuracy: 0.822\n",
      "Epoch: 112 / 200 Train Loss: 0.387 Validation Loss: 0.529 Train Accuracy: 0.840 Validation Accuracy: 0.789\n",
      "Epoch: 113 / 200 Train Loss: 0.419 Validation Loss: 0.468 Train Accuracy: 0.820 Validation Accuracy: 0.844\n",
      "Epoch: 114 / 200 Train Loss: 0.443 Validation Loss: 0.516 Train Accuracy: 0.810 Validation Accuracy: 0.767\n",
      "Epoch: 115 / 200 Train Loss: 0.441 Validation Loss: 0.480 Train Accuracy: 0.850 Validation Accuracy: 0.789\n",
      "Epoch: 116 / 200 Train Loss: 0.432 Validation Loss: 0.445 Train Accuracy: 0.860 Validation Accuracy: 0.800\n",
      "Epoch: 117 / 200 Train Loss: 0.420 Validation Loss: 0.385 Train Accuracy: 0.820 Validation Accuracy: 0.867\n",
      "Epoch: 118 / 200 Train Loss: 0.416 Validation Loss: 0.410 Train Accuracy: 0.820 Validation Accuracy: 0.844\n",
      "Epoch: 119 / 200 Train Loss: 0.456 Validation Loss: 0.444 Train Accuracy: 0.790 Validation Accuracy: 0.811\n",
      "Epoch: 120 / 200 Train Loss: 0.393 Validation Loss: 0.420 Train Accuracy: 0.850 Validation Accuracy: 0.833\n",
      "Epoch: 121 / 200 Train Loss: 0.429 Validation Loss: 0.385 Train Accuracy: 0.840 Validation Accuracy: 0.833\n",
      "Epoch: 122 / 200 Train Loss: 0.383 Validation Loss: 0.486 Train Accuracy: 0.860 Validation Accuracy: 0.811\n",
      "Epoch: 123 / 200 Train Loss: 0.414 Validation Loss: 0.471 Train Accuracy: 0.850 Validation Accuracy: 0.800\n",
      "Epoch: 124 / 200 Train Loss: 0.378 Validation Loss: 0.435 Train Accuracy: 0.850 Validation Accuracy: 0.833\n",
      "Epoch: 125 / 200 Train Loss: 0.397 Validation Loss: 0.413 Train Accuracy: 0.810 Validation Accuracy: 0.833\n",
      "Epoch: 126 / 200 Train Loss: 0.384 Validation Loss: 0.426 Train Accuracy: 0.840 Validation Accuracy: 0.811\n",
      "Epoch: 127 / 200 Train Loss: 0.399 Validation Loss: 0.425 Train Accuracy: 0.830 Validation Accuracy: 0.811\n",
      "Epoch: 128 / 200 Train Loss: 0.407 Validation Loss: 0.447 Train Accuracy: 0.820 Validation Accuracy: 0.833\n",
      "Epoch: 129 / 200 Train Loss: 0.419 Validation Loss: 0.468 Train Accuracy: 0.850 Validation Accuracy: 0.778\n",
      "Epoch: 130 / 200 Train Loss: 0.441 Validation Loss: 0.472 Train Accuracy: 0.830 Validation Accuracy: 0.811\n",
      "Epoch: 131 / 200 Train Loss: 0.366 Validation Loss: 0.493 Train Accuracy: 0.820 Validation Accuracy: 0.789\n",
      "Epoch: 132 / 200 Train Loss: 0.365 Validation Loss: 0.451 Train Accuracy: 0.870 Validation Accuracy: 0.833\n",
      "Epoch: 133 / 200 Train Loss: 0.389 Validation Loss: 0.430 Train Accuracy: 0.830 Validation Accuracy: 0.844\n",
      "Epoch: 134 / 200 Train Loss: 0.418 Validation Loss: 0.417 Train Accuracy: 0.820 Validation Accuracy: 0.844\n",
      "Epoch: 135 / 200 Train Loss: 0.394 Validation Loss: 0.430 Train Accuracy: 0.830 Validation Accuracy: 0.800\n",
      "Epoch: 136 / 200 Train Loss: 0.406 Validation Loss: 0.455 Train Accuracy: 0.850 Validation Accuracy: 0.822\n",
      "Epoch: 137 / 200 Train Loss: 0.401 Validation Loss: 0.432 Train Accuracy: 0.820 Validation Accuracy: 0.778\n",
      "Epoch: 138 / 200 Train Loss: 0.367 Validation Loss: 0.448 Train Accuracy: 0.870 Validation Accuracy: 0.800\n",
      "Epoch: 139 / 200 Train Loss: 0.382 Validation Loss: 0.411 Train Accuracy: 0.840 Validation Accuracy: 0.811\n",
      "Epoch: 140 / 200 Train Loss: 0.429 Validation Loss: 0.437 Train Accuracy: 0.850 Validation Accuracy: 0.811\n",
      "Epoch: 141 / 200 Train Loss: 0.422 Validation Loss: 0.428 Train Accuracy: 0.820 Validation Accuracy: 0.811\n",
      "Epoch: 142 / 200 Train Loss: 0.409 Validation Loss: 0.451 Train Accuracy: 0.820 Validation Accuracy: 0.822\n",
      "Epoch: 143 / 200 Train Loss: 0.386 Validation Loss: 0.386 Train Accuracy: 0.840 Validation Accuracy: 0.844\n",
      "Epoch: 144 / 200 Train Loss: 0.419 Validation Loss: 0.475 Train Accuracy: 0.830 Validation Accuracy: 0.778\n",
      "Epoch: 145 / 200 Train Loss: 0.385 Validation Loss: 0.492 Train Accuracy: 0.840 Validation Accuracy: 0.800\n",
      "Epoch: 146 / 200 Train Loss: 0.368 Validation Loss: 0.430 Train Accuracy: 0.850 Validation Accuracy: 0.811\n",
      "Epoch: 147 / 200 Train Loss: 0.426 Validation Loss: 0.452 Train Accuracy: 0.810 Validation Accuracy: 0.844\n",
      "Epoch: 148 / 200 Train Loss: 0.412 Validation Loss: 0.430 Train Accuracy: 0.840 Validation Accuracy: 0.867\n",
      "Epoch: 149 / 200 Train Loss: 0.377 Validation Loss: 0.446 Train Accuracy: 0.850 Validation Accuracy: 0.833\n",
      "Epoch: 150 / 200 Train Loss: 0.392 Validation Loss: 0.454 Train Accuracy: 0.840 Validation Accuracy: 0.778\n",
      "Epoch: 151 / 200 Train Loss: 0.369 Validation Loss: 0.444 Train Accuracy: 0.850 Validation Accuracy: 0.811\n",
      "Epoch: 152 / 200 Train Loss: 0.396 Validation Loss: 0.403 Train Accuracy: 0.840 Validation Accuracy: 0.822\n",
      "Epoch: 153 / 200 Train Loss: 0.387 Validation Loss: 0.445 Train Accuracy: 0.840 Validation Accuracy: 0.822\n",
      "Epoch: 154 / 200 Train Loss: 0.381 Validation Loss: 0.433 Train Accuracy: 0.850 Validation Accuracy: 0.778\n",
      "Epoch: 155 / 200 Train Loss: 0.369 Validation Loss: 0.453 Train Accuracy: 0.850 Validation Accuracy: 0.800\n",
      "Epoch: 156 / 200 Train Loss: 0.385 Validation Loss: 0.416 Train Accuracy: 0.830 Validation Accuracy: 0.789\n",
      "Epoch: 157 / 200 Train Loss: 0.407 Validation Loss: 0.457 Train Accuracy: 0.850 Validation Accuracy: 0.833\n",
      "Epoch: 158 / 200 Train Loss: 0.344 Validation Loss: 0.406 Train Accuracy: 0.840 Validation Accuracy: 0.833\n",
      "Epoch: 159 / 200 Train Loss: 0.420 Validation Loss: 0.462 Train Accuracy: 0.800 Validation Accuracy: 0.789\n",
      "Epoch: 160 / 200 Train Loss: 0.417 Validation Loss: 0.455 Train Accuracy: 0.840 Validation Accuracy: 0.789\n",
      "Epoch: 161 / 200 Train Loss: 0.390 Validation Loss: 0.446 Train Accuracy: 0.830 Validation Accuracy: 0.833\n",
      "Epoch: 162 / 200 Train Loss: 0.386 Validation Loss: 0.468 Train Accuracy: 0.860 Validation Accuracy: 0.767\n"
     ]
    },
    {
     "name": "stdout",
     "output_type": "stream",
     "text": [
      "Epoch: 163 / 200 Train Loss: 0.419 Validation Loss: 0.369 Train Accuracy: 0.830 Validation Accuracy: 0.844\n",
      "Epoch: 164 / 200 Train Loss: 0.381 Validation Loss: 0.407 Train Accuracy: 0.850 Validation Accuracy: 0.811\n",
      "Epoch: 165 / 200 Train Loss: 0.371 Validation Loss: 0.418 Train Accuracy: 0.880 Validation Accuracy: 0.856\n",
      "Epoch: 166 / 200 Train Loss: 0.370 Validation Loss: 0.417 Train Accuracy: 0.850 Validation Accuracy: 0.789\n",
      "Epoch: 167 / 200 Train Loss: 0.356 Validation Loss: 0.433 Train Accuracy: 0.840 Validation Accuracy: 0.789\n",
      "Epoch: 168 / 200 Train Loss: 0.380 Validation Loss: 0.451 Train Accuracy: 0.840 Validation Accuracy: 0.789\n",
      "Epoch: 169 / 200 Train Loss: 0.355 Validation Loss: 0.410 Train Accuracy: 0.850 Validation Accuracy: 0.822\n",
      "Epoch: 170 / 200 Train Loss: 0.412 Validation Loss: 0.402 Train Accuracy: 0.810 Validation Accuracy: 0.822\n",
      "Epoch: 171 / 200 Train Loss: 0.400 Validation Loss: 0.399 Train Accuracy: 0.780 Validation Accuracy: 0.822\n",
      "Epoch: 172 / 200 Train Loss: 0.397 Validation Loss: 0.431 Train Accuracy: 0.830 Validation Accuracy: 0.822\n",
      "Epoch: 173 / 200 Train Loss: 0.443 Validation Loss: 0.412 Train Accuracy: 0.790 Validation Accuracy: 0.833\n",
      "Epoch: 174 / 200 Train Loss: 0.374 Validation Loss: 0.451 Train Accuracy: 0.850 Validation Accuracy: 0.778\n",
      "Epoch: 175 / 200 Train Loss: 0.402 Validation Loss: 0.383 Train Accuracy: 0.830 Validation Accuracy: 0.811\n",
      "Epoch: 176 / 200 Train Loss: 0.385 Validation Loss: 0.416 Train Accuracy: 0.800 Validation Accuracy: 0.833\n",
      "Epoch: 177 / 200 Train Loss: 0.335 Validation Loss: 0.427 Train Accuracy: 0.840 Validation Accuracy: 0.833\n",
      "Epoch: 178 / 200 Train Loss: 0.373 Validation Loss: 0.446 Train Accuracy: 0.860 Validation Accuracy: 0.800\n",
      "Epoch: 179 / 200 Train Loss: 0.392 Validation Loss: 0.450 Train Accuracy: 0.840 Validation Accuracy: 0.833\n",
      "Epoch: 180 / 200 Train Loss: 0.360 Validation Loss: 0.445 Train Accuracy: 0.860 Validation Accuracy: 0.822\n",
      "Epoch: 181 / 200 Train Loss: 0.399 Validation Loss: 0.447 Train Accuracy: 0.830 Validation Accuracy: 0.822\n",
      "Epoch: 182 / 200 Train Loss: 0.418 Validation Loss: 0.453 Train Accuracy: 0.850 Validation Accuracy: 0.800\n",
      "Epoch: 183 / 200 Train Loss: 0.407 Validation Loss: 0.410 Train Accuracy: 0.850 Validation Accuracy: 0.833\n",
      "Epoch: 184 / 200 Train Loss: 0.401 Validation Loss: 0.439 Train Accuracy: 0.860 Validation Accuracy: 0.822\n",
      "Epoch: 185 / 200 Train Loss: 0.367 Validation Loss: 0.459 Train Accuracy: 0.840 Validation Accuracy: 0.856\n",
      "Epoch: 186 / 200 Train Loss: 0.403 Validation Loss: 0.407 Train Accuracy: 0.830 Validation Accuracy: 0.822\n",
      "Epoch: 187 / 200 Train Loss: 0.369 Validation Loss: 0.431 Train Accuracy: 0.850 Validation Accuracy: 0.822\n",
      "Epoch: 188 / 200 Train Loss: 0.395 Validation Loss: 0.409 Train Accuracy: 0.830 Validation Accuracy: 0.811\n",
      "Epoch: 189 / 200 Train Loss: 0.403 Validation Loss: 0.374 Train Accuracy: 0.850 Validation Accuracy: 0.856\n",
      "Epoch: 190 / 200 Train Loss: 0.359 Validation Loss: 0.436 Train Accuracy: 0.850 Validation Accuracy: 0.789\n",
      "Epoch: 191 / 200 Train Loss: 0.365 Validation Loss: 0.424 Train Accuracy: 0.870 Validation Accuracy: 0.800\n",
      "Epoch: 192 / 200 Train Loss: 0.376 Validation Loss: 0.461 Train Accuracy: 0.820 Validation Accuracy: 0.822\n",
      "Epoch: 193 / 200 Train Loss: 0.357 Validation Loss: 0.426 Train Accuracy: 0.830 Validation Accuracy: 0.833\n",
      "Epoch: 194 / 200 Train Loss: 0.382 Validation Loss: 0.422 Train Accuracy: 0.800 Validation Accuracy: 0.833\n",
      "Epoch: 195 / 200 Train Loss: 0.363 Validation Loss: 0.418 Train Accuracy: 0.830 Validation Accuracy: 0.789\n",
      "Epoch: 196 / 200 Train Loss: 0.384 Validation Loss: 0.422 Train Accuracy: 0.880 Validation Accuracy: 0.844\n",
      "Epoch: 197 / 200 Train Loss: 0.380 Validation Loss: 0.447 Train Accuracy: 0.830 Validation Accuracy: 0.778\n",
      "Epoch: 198 / 200 Train Loss: 0.371 Validation Loss: 0.432 Train Accuracy: 0.850 Validation Accuracy: 0.844\n",
      "Epoch: 199 / 200 Train Loss: 0.421 Validation Loss: 0.431 Train Accuracy: 0.800 Validation Accuracy: 0.800\n",
      "Epoch: 200 / 200 Train Loss: 0.387 Validation Loss: 0.428 Train Accuracy: 0.820 Validation Accuracy: 0.811\n"
     ]
    }
   ],
   "source": [
    "nn = feedfwd(x,y,prob)\n",
    "\n",
    "e=np.linspace(1, epochs, num=epochs)\n",
    "losses=np.zeros((2,epochs))\n",
    "accuracies=np.zeros((2,epochs))\n",
    "\n",
    "\n",
    "with tf.Session() as sess:\n",
    "    sess.run(tf.global_variables_initializer())\n",
    "    \n",
    "    for epoch in range(epochs):\n",
    "        \n",
    "        batch = int(len(X_train) / batch_size)\n",
    "        X_batches = np.array_split(X_train, batch)\n",
    "        Y_batches = np.array_split(Y_train, batch)\n",
    "        \n",
    "        for i in range(batch):\n",
    "            batch_X, batch_Y = X_batches[i], Y_batches[i]\n",
    "            tr_p,tr_opt, tr_loss, tr_acc = sess.run([nn.p,nn.optimizer, nn.cost,  nn.accuracy], feed_dict={nn.x: batch_X,nn.y: batch_Y,nn.prob:prob_test})\n",
    "                        \n",
    "        val_loss, val_acc = sess.run([nn.cost, nn.accuracy], feed_dict={nn.x: X_val,nn.y: Y_val,nn.prob:prob_test})   \n",
    "        \n",
    "        #Collect Data\n",
    "        losses[0][epoch]=tr_loss   \n",
    "        losses[1][epoch]=val_loss\n",
    "        accuracies[0][epoch]=tr_acc\n",
    "        accuracies[1][epoch]=val_acc\n",
    "        \n",
    "        print(\"Epoch:\",epoch + 1,\"/\", epochs,\"Train Loss:\",'%.3f' % tr_loss,\"Validation Loss:\",'%.3f' % val_loss,\n",
    "              \"Train Accuracy:\",'%.3f' % tr_acc,\"Validation Accuracy:\",'%.3f' % val_acc)\n",
    "                      \n",
    "                    \n",
    "    tf.train.Saver().save(sess, \"./titanic.ckpt\")\n",
    "    "
   ]
  },
  {
   "cell_type": "code",
   "execution_count": 34,
   "metadata": {},
   "outputs": [
    {
     "data": {
      "image/png": "[encoded data removed]",
      "text/plain": [
       "<Figure size 432x288 with 1 Axes>"
      ]
     },
     "metadata": {},
     "output_type": "display_data"
    }
   ],
   "source": [
    "plt.plot(e,losses[0,:],label='trainning loss');\n",
    "plt.plot(e,losses[1,:],label='validation loss');\n",
    "\n",
    "plt.legend(loc='upper right');\n",
    "plt.xlabel('Epochs');\n",
    "plt.ylabel('Loss');\n",
    "plt.title('Loss during Trainning');"
   ]
  },
  {
   "cell_type": "code",
   "execution_count": 35,
   "metadata": {},
   "outputs": [
    {
     "data": {
      "image/png": "[encoded data removed]",
      "text/plain": [
       "<Figure size 432x288 with 1 Axes>"
      ]
     },
     "metadata": {},
     "output_type": "display_data"
    }
   ],
   "source": [
    "plt.plot(e,accuracies[0,:],label='trainning accuracy');\n",
    "plt.plot(e,accuracies[1,:],label='validation accuracy');\n",
    "\n",
    "plt.legend(loc='upper right');\n",
    "plt.xlabel('Epochs');\n",
    "plt.ylabel('Accuracy');\n",
    "plt.title('Accuracy during Trainning');\n"
   ]
  },
  {
   "cell_type": "code",
   "execution_count": 36,
   "metadata": {},
   "outputs": [
    {
     "name": "stdout",
     "output_type": "stream",
     "text": [
      "INFO:tensorflow:Restoring parameters from ./titanic.ckpt\n",
      "probability values [0.07138025 0.27163607 0.08435463 0.09053034 0.31576076]\n",
      "[0 0 0 0 0 0 1 0 1 0 0 0 1 0 1 1 0 0 0 1 0 0 1 1 1 0 1 0 0 0 0 0 0 0 1 0 0\n",
      " 1 0 0 0 0 0 1 1 0 0 0 1 0 1 0 1 1 0 0 0 0 0 1 0 0 0 1 1 1 1 0 0 0 1 0 0 0\n",
      " 1 0 0 1 0 1 1 0 0 0 0 0 1 1 1 1 0 0 1 0 0 0 1 0 1 0 1 0 0 0 1 0 0 0 0 0 0\n",
      " 1 1 1 1 0 0 1 0 1 1 0 1 0 0 1 0 1 0 0 0 0 0 0 0 0 0 0 0 0 0 1 0 0 0 0 0 0\n",
      " 0 0 1 0 0 0 0 0 1 0 0 0 1 1 1 0 0 0 0 0 1 1 0 0 0 0 0 1 1 0 1 1 0 1 1 0 1\n",
      " 0 1 0 0 0 0 0 0 0 1 0 1 1 0 0 1 0 0 1 0 0 1 0 1 0 0 0 0 1 0 0 1 0 1 0 1 0\n",
      " 1 0 1 1 0 1 0 0 0 1 0 0 0 0 0 0 1 1 1 1 0 0 0 0 1 0 1 1 1 0 1 0 0 0 0 0 1\n",
      " 0 0 0 1 1 0 0 0 0 0 0 0 0 1 1 0 1 0 0 0 0 0 0 1 1 1 0 0 1 0 0 0 1 0 0 0 0\n",
      " 1 0 0 0 0 0 0 0 1 1 1 0 0 0 0 0 0 1 1 1 0 0 0 0 0 0 0 0 1 0 1 0 0 0 1 0 0\n",
      " 1 0 0 0 0 0 0 0 0 0 1 0 1 0 1 0 1 1 0 0 0 0 0 1 0 0 0 0 1 1 0 1 0 0 1 1 0\n",
      " 0 1 0 0 1 1 0 0 0 0 0 0 0 0 0 1 0 0 0 0 0 1 0 0 0 1 0 1 0 0 1 0 1 0 0 0 0\n",
      " 0 1 1 1 1 0 0 1 0 0 0]\n"
     ]
    }
   ],
   "source": [
    "with tf.Session() as sess:\n",
    "    tf.train.Saver().restore(sess,\"./titanic.ckpt\")\n",
    "    \n",
    "    test_predict=sess.run(nn.p,feed_dict={nn.x:test,nn.prob:1})\n",
    "    \n",
    "print('probability values',test_predict[:5,0])\n",
    "\n",
    "test_result=Binarizer(0.5).fit_transform(test_predict).astype(np.int32)\n",
    "\n",
    "print(test_result[0:,0])"
   ]
  },
  {
   "cell_type": "code",
   "execution_count": 37,
   "metadata": {},
   "outputs": [
    {
     "data": {
      "text/html": [
       "<div>\n",
       "<style scoped>\n",
       "    .dataframe tbody tr th:only-of-type {\n",
       "        vertical-align: middle;\n",
       "    }\n",
       "\n",
       "    .dataframe tbody tr th {\n",
       "        vertical-align: top;\n",
       "    }\n",
       "\n",
       "    .dataframe thead th {\n",
       "        text-align: right;\n",
       "    }\n",
       "</style>\n",
       "<table border=\"1\" class=\"dataframe\">\n",
       "  <thead>\n",
       "    <tr style=\"text-align: right;\">\n",
       "      <th></th>\n",
       "      <th>PassengerId</th>\n",
       "      <th>Survived</th>\n",
       "    </tr>\n",
       "  </thead>\n",
       "  <tbody>\n",
       "    <tr>\n",
       "      <th>0</th>\n",
       "      <td>892</td>\n",
       "      <td>0</td>\n",
       "    </tr>\n",
       "    <tr>\n",
       "      <th>1</th>\n",
       "      <td>893</td>\n",
       "      <td>0</td>\n",
       "    </tr>\n",
       "    <tr>\n",
       "      <th>2</th>\n",
       "      <td>894</td>\n",
       "      <td>0</td>\n",
       "    </tr>\n",
       "    <tr>\n",
       "      <th>3</th>\n",
       "      <td>895</td>\n",
       "      <td>0</td>\n",
       "    </tr>\n",
       "    <tr>\n",
       "      <th>4</th>\n",
       "      <td>896</td>\n",
       "      <td>0</td>\n",
       "    </tr>\n",
       "  </tbody>\n",
       "</table>\n",
       "</div>"
      ],
      "text/plain": [
       "   PassengerId  Survived\n",
       "0          892         0\n",
       "1          893         0\n",
       "2          894         0\n",
       "3          895         0\n",
       "4          896         0"
      ]
     },
     "metadata": {},
     "output_type": "display_data"
    }
   ],
   "source": [
    "sub=test_passenger_id.to_frame()\n",
    "sub[\"Survived\"]=test_result\n",
    "display(sub.head())\n",
    "sub.to_csv('submission.csv', index=False)"
   ]
  }
 ],
 "metadata": {
  "kernelspec": {
   "display_name": "Python 3",
   "language": "python",
   "name": "python3"
  },
  "language_info": {
   "codemirror_mode": {
    "name": "ipython",
    "version": 3
   },
   "file_extension": ".py",
   "mimetype": "text/x-python",
   "name": "python",
   "nbconvert_exporter": "python",
   "pygments_lexer": "ipython3",
   "version": "3.6.5"
  }
 },
 "nbformat": 4,
 "nbformat_minor": 2
}
